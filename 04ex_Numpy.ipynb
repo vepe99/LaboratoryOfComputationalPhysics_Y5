{
 "cells": [
  {
   "cell_type": "markdown",
   "metadata": {},
   "source": [
    "### Numpy basics"
   ]
  },
  {
   "cell_type": "markdown",
   "metadata": {},
   "source": [
    "1\\. Find the row, column and overall means for the following matrix:\n",
    "\n",
    "```python\n",
    "m = np.arange(12).reshape((3,4))\n",
    "```"
   ]
  },
  {
   "cell_type": "code",
   "execution_count": 21,
   "metadata": {},
   "outputs": [
    {
     "name": "stdout",
     "output_type": "stream",
     "text": [
      "[[ 0  1  2  3]\n",
      " [ 4  5  6  7]\n",
      " [ 8  9 10 11]] \n",
      "\n",
      "Means along the row [4. 5. 6. 7.] \n",
      "\n",
      "Means along the rows [1.5 5.5 9.5] \n",
      "\n",
      "Overall mean 5.5 \n",
      "\n"
     ]
    }
   ],
   "source": [
    "import numpy as np\n",
    "\n",
    "m = np.arange(12).reshape((3,4))\n",
    "print(m, '\\n')\n",
    "print('Means along the row', np.mean(m, axis=0),'\\n')\n",
    "print('Means along the rows', np.mean(m, axis=1),'\\n')\n",
    "print('Overall mean', np.mean(m),'\\n')"
   ]
  },
  {
   "cell_type": "markdown",
   "metadata": {},
   "source": [
    "2\\. Find the outer product of the following two vecotrs\n",
    "\n",
    "```python\n",
    "u = np.array([1,3,5,7])\n",
    "v = np.array([2,4,6,8])\n",
    "```\n",
    "\n",
    "Do this in the following ways:\n",
    "\n",
    "   * Using the function outer in numpy\n",
    "   * Using a nested for loop or list comprehension\n",
    "   * Using numpy broadcasting operatoins\n"
   ]
  },
  {
   "cell_type": "code",
   "execution_count": 22,
   "metadata": {},
   "outputs": [
    {
     "name": "stdout",
     "output_type": "stream",
     "text": [
      "Outer product using the numpy function outer: \n",
      " [[ 2  4  6  8]\n",
      " [ 6 12 18 24]\n",
      " [10 20 30 40]\n",
      " [14 28 42 56]] \n",
      "\n",
      "Outer product using a list comprehension: \n",
      " [[ 2  6 10 14]\n",
      " [ 4 12 20 28]\n",
      " [ 6 18 30 42]\n",
      " [ 8 24 40 56]] \n",
      "\n",
      "Outer product using broadcastin operations: \n",
      " [[ 2  6 10 14]\n",
      " [ 4 12 20 28]\n",
      " [ 6 18 30 42]\n",
      " [ 8 24 40 56]] \n",
      "\n"
     ]
    }
   ],
   "source": [
    "u = np.array([1,3,5,7])\n",
    "v = np.array([2,4,6,8])\n",
    "\n",
    "print('Outer product using the numpy function outer: \\n', np.outer(u,v), '\\n') \n",
    "print('Outer product using a list comprehension: \\n', np.array([[i*j for i in u] for j in v]), '\\n')\n",
    "print('Outer product using broadcastin operations: \\n', u*v.reshape(1,len(v)).T, '\\n')"
   ]
  },
  {
   "cell_type": "markdown",
   "metadata": {},
   "source": [
    "3\\. Create a 10 by 6 matrix of random uniform numbers. Set all rows with any entry less than 0.1 to be zero\n",
    "\n",
    "Hint: Use the following numpy functions - np.random.random, np.any as well as Boolean indexing and the axis argument."
   ]
  },
  {
   "cell_type": "code",
   "execution_count": 23,
   "metadata": {},
   "outputs": [
    {
     "name": "stdout",
     "output_type": "stream",
     "text": [
      "the initial matrix \n",
      " [[0.58282778 0.96373462 0.99614002 0.38708753 0.51835293 0.83229699]\n",
      " [0.09372776 0.69686025 0.965701   0.69762042 0.52403814 0.0361848 ]\n",
      " [0.78988448 0.88125844 0.9208601  0.26437642 0.4239282  0.73246548]\n",
      " [0.48641739 0.55619926 0.59387939 0.04508281 0.75338565 0.42000992]\n",
      " [0.95351453 0.67016135 0.48784835 0.6294788  0.01108579 0.58273418]\n",
      " [0.50866446 0.83454328 0.15765857 0.39461811 0.18380237 0.55157494]\n",
      " [0.59826495 0.48316541 0.56666252 0.84533086 0.4479101  0.56326078]\n",
      " [0.78323237 0.61614797 0.50435824 0.39985922 0.79997847 0.19504282]\n",
      " [0.86736303 0.12843124 0.12954244 0.83701184 0.25054053 0.60322952]\n",
      " [0.16860531 0.27132706 0.49457065 0.05075874 0.42464736 0.79918532]] \n",
      "\n",
      "the initial matrix when the mask is applied \n",
      " [[0.58282778 0.96373462 0.99614002 0.38708753 0.51835293 0.83229699]\n",
      " [0.         0.69686025 0.965701   0.69762042 0.52403814 0.        ]\n",
      " [0.78988448 0.88125844 0.9208601  0.26437642 0.4239282  0.73246548]\n",
      " [0.48641739 0.55619926 0.59387939 0.         0.75338565 0.42000992]\n",
      " [0.95351453 0.67016135 0.48784835 0.6294788  0.         0.58273418]\n",
      " [0.50866446 0.83454328 0.15765857 0.39461811 0.18380237 0.55157494]\n",
      " [0.59826495 0.48316541 0.56666252 0.84533086 0.4479101  0.56326078]\n",
      " [0.78323237 0.61614797 0.50435824 0.39985922 0.79997847 0.19504282]\n",
      " [0.86736303 0.12843124 0.12954244 0.83701184 0.25054053 0.60322952]\n",
      " [0.16860531 0.27132706 0.49457065 0.         0.42464736 0.79918532]] \n",
      "\n",
      "the vector that shows if inside the rows is present a False value \n",
      " [False  True False  True  True False False False False  True] \n",
      "\n",
      "the initial matrix when a combination of slicing (all the coloumns are taken), and masking with the vector, is applied \n",
      " [[0.58282778 0.96373462 0.99614002 0.38708753 0.51835293 0.83229699]\n",
      " [0.         0.         0.         0.         0.         0.        ]\n",
      " [0.78988448 0.88125844 0.9208601  0.26437642 0.4239282  0.73246548]\n",
      " [0.         0.         0.         0.         0.         0.        ]\n",
      " [0.         0.         0.         0.         0.         0.        ]\n",
      " [0.50866446 0.83454328 0.15765857 0.39461811 0.18380237 0.55157494]\n",
      " [0.59826495 0.48316541 0.56666252 0.84533086 0.4479101  0.56326078]\n",
      " [0.78323237 0.61614797 0.50435824 0.39985922 0.79997847 0.19504282]\n",
      " [0.86736303 0.12843124 0.12954244 0.83701184 0.25054053 0.60322952]\n",
      " [0.         0.         0.         0.         0.         0.        ]] \n",
      "\n"
     ]
    }
   ],
   "source": [
    "a = np.random.random(size=(10,6))\n",
    "print('the initial matrix \\n', a, '\\n')\n",
    "mask = (a < 0.1)\n",
    "a[mask] = 0\n",
    "print('the initial matrix when the mask is applied \\n', a, '\\n')\n",
    "\n",
    "b = np.any(mask, axis = 1)\n",
    "print('the vector that shows if inside the rows is present a False value \\n', b, '\\n')\n",
    "\n",
    "a[b, :] = 0 \n",
    "print('the initial matrix when a combination of slicing (all the coloumns are taken), and masking with the vector, is applied \\n', a, '\\n')"
   ]
  },
  {
   "cell_type": "markdown",
   "metadata": {},
   "source": [
    "4\\. Use np.linspace to create an array of 100 numbers between 0 and 2π (includsive).\n",
    "\n",
    "  * Extract every 10th element using slice notation\n",
    "  * Reverse the array using slice notation\n",
    "  * Extract elements where the absolute difference between the sine and cosine functions evaluated at that element is less than 0.1\n",
    "  * Make a plot showing the sin and cos functions and indicate where they are close"
   ]
  },
  {
   "cell_type": "code",
   "execution_count": 24,
   "metadata": {},
   "outputs": [
    {
     "name": "stdout",
     "output_type": "stream",
     "text": [
      "original array created using linsapce: \n",
      " [0.         0.06346652 0.12693304 0.19039955 0.25386607 0.31733259\n",
      " 0.38079911 0.44426563 0.50773215 0.57119866 0.63466518 0.6981317\n",
      " 0.76159822 0.82506474 0.88853126 0.95199777 1.01546429 1.07893081\n",
      " 1.14239733 1.20586385 1.26933037 1.33279688 1.3962634  1.45972992\n",
      " 1.52319644 1.58666296 1.65012947 1.71359599 1.77706251 1.84052903\n",
      " 1.90399555 1.96746207 2.03092858 2.0943951  2.15786162 2.22132814\n",
      " 2.28479466 2.34826118 2.41172769 2.47519421 2.53866073 2.60212725\n",
      " 2.66559377 2.72906028 2.7925268  2.85599332 2.91945984 2.98292636\n",
      " 3.04639288 3.10985939 3.17332591 3.23679243 3.30025895 3.36372547\n",
      " 3.42719199 3.4906585  3.55412502 3.61759154 3.68105806 3.74452458\n",
      " 3.8079911  3.87145761 3.93492413 3.99839065 4.06185717 4.12532369\n",
      " 4.1887902  4.25225672 4.31572324 4.37918976 4.44265628 4.5061228\n",
      " 4.56958931 4.63305583 4.69652235 4.75998887 4.82345539 4.88692191\n",
      " 4.95038842 5.01385494 5.07732146 5.14078798 5.2042545  5.26772102\n",
      " 5.33118753 5.39465405 5.45812057 5.52158709 5.58505361 5.64852012\n",
      " 5.71198664 5.77545316 5.83891968 5.9023862  5.96585272 6.02931923\n",
      " 6.09278575 6.15625227 6.21971879 6.28318531] \n",
      "\n",
      "10th elememnt extracted using slicing notation: \n",
      " [0.         0.63466518 1.26933037 1.90399555 2.53866073 3.17332591\n",
      " 3.8079911  4.44265628 5.07732146 5.71198664] \n",
      "\n",
      "reversed array using slicing notation: \n",
      " [6.28318531 6.21971879 6.15625227 6.09278575 6.02931923 5.96585272\n",
      " 5.9023862  5.83891968 5.77545316 5.71198664 5.64852012 5.58505361\n",
      " 5.52158709 5.45812057 5.39465405 5.33118753 5.26772102 5.2042545\n",
      " 5.14078798 5.07732146 5.01385494 4.95038842 4.88692191 4.82345539\n",
      " 4.75998887 4.69652235 4.63305583 4.56958931 4.5061228  4.44265628\n",
      " 4.37918976 4.31572324 4.25225672 4.1887902  4.12532369 4.06185717\n",
      " 3.99839065 3.93492413 3.87145761 3.8079911  3.74452458 3.68105806\n",
      " 3.61759154 3.55412502 3.4906585  3.42719199 3.36372547 3.30025895\n",
      " 3.23679243 3.17332591 3.10985939 3.04639288 2.98292636 2.91945984\n",
      " 2.85599332 2.7925268  2.72906028 2.66559377 2.60212725 2.53866073\n",
      " 2.47519421 2.41172769 2.34826118 2.28479466 2.22132814 2.15786162\n",
      " 2.0943951  2.03092858 1.96746207 1.90399555 1.84052903 1.77706251\n",
      " 1.71359599 1.65012947 1.58666296 1.52319644 1.45972992 1.3962634\n",
      " 1.33279688 1.26933037 1.20586385 1.14239733 1.07893081 1.01546429\n",
      " 0.95199777 0.88853126 0.82506474 0.76159822 0.6981317  0.63466518\n",
      " 0.57119866 0.50773215 0.44426563 0.38079911 0.31733259 0.25386607\n",
      " 0.19039955 0.12693304 0.06346652 0.        ] \n",
      "\n",
      "array filtred using the |sin-cos|<0.1 condition: \n",
      " [0.76159822 0.82506474 3.87145761 3.93492413] \n",
      "\n"
     ]
    },
    {
     "data": {
      "text/plain": [
       "<matplotlib.legend.Legend at 0x7fc45d157730>"
      ]
     },
     "execution_count": 24,
     "metadata": {},
     "output_type": "execute_result"
    },
    {
     "data": {
      "image/png": "[encoded data removed]",
      "text/plain": [
       "<Figure size 640x480 with 1 Axes>"
      ]
     },
     "metadata": {},
     "output_type": "display_data"
    }
   ],
   "source": [
    "import matplotlib.pyplot as plt \n",
    "\n",
    "a = np.linspace(0, 2*np.pi, endpoint=True, num=100)\n",
    "print('original array created using linsapce: \\n', a, '\\n')\n",
    "print('10th elememnt extracted using slicing notation: \\n', a[::10], '\\n')\n",
    "print('reversed array using slicing notation: \\n', a[::-1], '\\n')\n",
    "print('array filtred using the |sin-cos|<0.1 condition: \\n', a[np.absolute(np.sin(a)-np.cos(a)) < 0.1], '\\n')\n",
    "b = a[np.absolute(np.sin(a)-np.cos(a)) < 0.1]\n",
    "\n",
    "fig, ax = plt.subplots(1,1)\n",
    "ax.plot(a, np.sin(a), '.-', label='sine')\n",
    "ax.plot(a, np.cos(a), '.-', label='cosine')\n",
    "ax.plot(b, np.sin(b), 'ro', label = '|sin-cos|<0.1')\n",
    "\n",
    "ax.grid()\n",
    "ax.legend()"
   ]
  },
  {
   "cell_type": "markdown",
   "metadata": {},
   "source": [
    "5\\. Create a matrix that shows the 10 by 10 multiplication table.\n",
    "\n",
    " * Find the trace of the matrix\n",
    " * Extract the anto-diagonal (this should be ```array([10, 18, 24, 28, 30, 30, 28, 24, 18, 10])```)\n",
    " * Extract the diagnoal offset by 1 upwards (this should be ```array([ 2,  6, 12, 20, 30, 42, 56, 72, 90])```)"
   ]
  },
  {
   "cell_type": "code",
   "execution_count": 25,
   "metadata": {},
   "outputs": [
    {
     "name": "stdout",
     "output_type": "stream",
     "text": [
      "10 by 10 multiplication matrix: \n",
      " [[  1   2   3   4   5   6   7   8   9  10]\n",
      " [  2   4   6   8  10  12  14  16  18  20]\n",
      " [  3   6   9  12  15  18  21  24  27  30]\n",
      " [  4   8  12  16  20  24  28  32  36  40]\n",
      " [  5  10  15  20  25  30  35  40  45  50]\n",
      " [  6  12  18  24  30  36  42  48  54  60]\n",
      " [  7  14  21  28  35  42  49  56  63  70]\n",
      " [  8  16  24  32  40  48  56  64  72  80]\n",
      " [  9  18  27  36  45  54  63  72  81  90]\n",
      " [ 10  20  30  40  50  60  70  80  90 100]] \n",
      "\n",
      "the trace of the matrix is: \n",
      " 385 \n",
      "\n",
      "the antidiagonal is: \n",
      " [10 18 24 28 30 30 28 24 18 10] \n",
      "\n",
      "the diagonal offset by 1 upward: \n",
      " [ 2  6 12 20 30 42 56 72 90]\n"
     ]
    }
   ],
   "source": [
    "a = np.array([[i*j for i in np.arange(1, 11)] for j in np.arange(1,11)] )\n",
    "print('10 by 10 multiplication matrix: \\n', a, '\\n')\n",
    "print('the trace of the matrix is: \\n', np.trace(a), '\\n')\n",
    "print('the antidiagonal is: \\n', np.diag(a[::, ::-1]), '\\n')\n",
    "print('the diagonal offset by 1 upward: \\n', np.diag(a[:-1, 1:]))"
   ]
  },
  {
   "attachments": {},
   "cell_type": "markdown",
   "metadata": {},
   "source": [
    "6\\. Use broadcasting to create a grid of distances\n",
    "\n",
    "Route 66 crosses the following cities in the US: Chicago, Springfield, Saint-Louis, Tulsa, Oklahoma City, Amarillo, Santa Fe, Albuquerque, Flagstaff, Los Angeles\n",
    "The corresponding positions in miles are: 0, 198, 303, 736, 871, 1175, 1475, 1544, 1913, 2448\n",
    "\n",
    "  * Construct a 2D grid of distances among each city along Route 66\n",
    "  * Convert that in km (those savages...)"
   ]
  },
  {
   "cell_type": "code",
   "execution_count": 37,
   "metadata": {},
   "outputs": [
    {
     "name": "stdout",
     "output_type": "stream",
     "text": [
      "2D grid of distsances among cities in Miles: \n",
      " [[   0  198  303  736  871 1175 1475 1544 1913 2448]\n",
      " [ 198    0  105  538  673  977 1277 1346 1715 2250]\n",
      " [ 303  105    0  433  568  872 1172 1241 1610 2145]\n",
      " [ 736  538  433    0  135  439  739  808 1177 1712]\n",
      " [ 871  673  568  135    0  304  604  673 1042 1577]\n",
      " [1175  977  872  439  304    0  300  369  738 1273]\n",
      " [1475 1277 1172  739  604  300    0   69  438  973]\n",
      " [1544 1346 1241  808  673  369   69    0  369  904]\n",
      " [1913 1715 1610 1177 1042  738  438  369    0  535]\n",
      " [2448 2250 2145 1712 1577 1273  973  904  535    0]] \n",
      "\n",
      "2D grid of distsances among cities in Km: \n",
      " [[   0.       318.64932  487.63002 1184.47424 1401.73514 1890.9745\n",
      "  2373.7765  2484.82096 3078.66742 3939.66432]\n",
      " [ 318.64932    0.       168.9807   865.82492 1083.08582 1572.32518\n",
      "  2055.12718 2166.17164 2760.0181  3621.015  ]\n",
      " [ 487.63002  168.9807     0.       696.84422  914.10512 1403.34448\n",
      "  1886.14648 1997.19094 2591.0374  3452.0343 ]\n",
      " [1184.47424  865.82492  696.84422    0.       217.2609   706.50026\n",
      "  1189.30226 1300.34672 1894.19318 2755.19008]\n",
      " [1401.73514 1083.08582  914.10512  217.2609     0.       489.23936\n",
      "   972.04136 1083.08582 1676.93228 2537.92918]\n",
      " [1890.9745  1572.32518 1403.34448  706.50026  489.23936    0.\n",
      "   482.802    593.84646 1187.69292 2048.68982]\n",
      " [2373.7765  2055.12718 1886.14648 1189.30226  972.04136  482.802\n",
      "     0.       111.04446  704.89092 1565.88782]\n",
      " [2484.82096 2166.17164 1997.19094 1300.34672 1083.08582  593.84646\n",
      "   111.04446    0.       593.84646 1454.84336]\n",
      " [3078.66742 2760.0181  2591.0374  1894.19318 1676.93228 1187.69292\n",
      "   704.89092  593.84646    0.       860.9969 ]\n",
      " [3939.66432 3621.015   3452.0343  2755.19008 2537.92918 2048.68982\n",
      "  1565.88782 1454.84336  860.9969     0.     ]] \n",
      "\n"
     ]
    }
   ],
   "source": [
    "d = np.array([0, 198, 303, 736, 871, 1175, 1475, 1544, 1913, 2448])\n",
    "\n",
    "grid_2d = np.absolute(d - d.reshape(1, len(d)).T)\n",
    "print('2D grid of distsances among cities in Miles: \\n', grid_2d, '\\n')\n",
    "\n",
    "\n",
    "print('2D grid of distsances among cities in Km: \\n', grid_2d * 1.60934, '\\n')\n"
   ]
  },
  {
   "cell_type": "markdown",
   "metadata": {},
   "source": [
    "7\\. Prime numbers sieve: compute the prime numbers in the 0-N (N=99 to start with) range with a sieve (mask).\n",
    "  * Constract a shape (100,) boolean array, the mask\n",
    "  * Identify the multiples of each number starting from 2 and set accordingly the corresponding mask element\n",
    "  * Apply the mask to obtain an array of ordered prime numbers\n",
    "  * Check the performances (timeit); how does it scale with N?\n",
    "  * Implement the optimization suggested in the [sieve of Eratosthenes](https://en.wikipedia.org/wiki/Sieve_of_Eratosthenes)"
   ]
  },
  {
   "cell_type": "code",
   "execution_count": 80,
   "metadata": {},
   "outputs": [
    {
     "name": "stdout",
     "output_type": "stream",
     "text": [
      "[ 2  3  5  7 11 13 17 19 23 29 31 37 41 43 47 53 59 61 67 71 73 79 83 89\n",
      " 97]\n"
     ]
    }
   ],
   "source": [
    "%timeit\n",
    "N = 100\n",
    "a = np.arange(0, N)\n",
    "mask = np.ones(100, dtype=bool)\n",
    "\n",
    "mask[0], mask[1] = False, False\n",
    "for i in range(2,N):\n",
    "    for j in range(i,N):\n",
    "        if a[j] != i:\n",
    "            if a[j]%i == 0:\n",
    "                mask[j]= False\n",
    "\n",
    "print(a[mask])"
   ]
  },
  {
   "cell_type": "markdown",
   "metadata": {},
   "source": [
    "**N.B. the following exercises are meant to be solved only if you are familiar with the numpy random library. If not you can skip them (postponed for one of the next exercise sessions)**\n"
   ]
  },
  {
   "cell_type": "markdown",
   "metadata": {},
   "source": [
    "8\\. Diffusion using random walk\n",
    "\n",
    "Consider a simple random walk process: at each step in time, a walker jumps right or left (+1 or -1) with equal probability. The goal is to find the typical distance from the origin of a random walker after a given amount of time. \n",
    "To do that, let's simulate many walkers and create a 2D array with each walker as a raw and the actual time evolution as columns\n",
    "\n",
    "  * Take 1000 walkers and let them walk for 200 steps\n",
    "  * Use randint to create a 2D array of size walkers x steps with values -1 or 1\n",
    "  * Build the actual walking distances for each walker (i.e. another 2D array \"summing on each raw\")\n",
    "  * Take the square of that 2D array (elementwise)\n",
    "  * Compute the mean of the squared distances at each step (i.e. the mean along the columns)\n",
    "  * Plot the average distances (sqrt(distance\\*\\*2)) as a function of time (step)\n",
    "  \n",
    "Did you get what you expected?"
   ]
  },
  {
   "cell_type": "markdown",
   "metadata": {},
   "source": [
    "9\\. Analyze a data file \n",
    "  * Download the population of hares, lynxes and carrots at the beginning of the last century.\n",
    "    ```python\n",
    "    ! wget https://www.dropbox.com/s/3vigxoqayo389uc/populations.txt\n",
    "    ```\n",
    "\n",
    "  * Check the content by looking within the file\n",
    "  * Load the data (use an appropriate numpy method) into a 2D array\n",
    "  * Create arrays out of the columns, the arrays being (in order): *year*, *hares*, *lynxes*, *carrots* \n",
    "  * Plot the 3 populations over the years\n",
    "  * Compute the main statistical properties of the dataset (mean, std, correlations, etc.)\n",
    "  * Which species has the highest population each year?\n",
    "\n",
    "Do you feel there is some evident correlation here? [Studies](https://www.enr.gov.nt.ca/en/services/lynx/lynx-snowshoe-hare-cycle) tend to believe so."
   ]
  }
 ],
 "metadata": {
  "kernelspec": {
   "display_name": "Python 3.9.13 ('base')",
   "language": "python",
   "name": "python3"
  },
  "language_info": {
   "codemirror_mode": {
    "name": "ipython",
    "version": 3
   },
   "file_extension": ".py",
   "mimetype": "text/x-python",
   "name": "python",
   "nbconvert_exporter": "python",
   "pygments_lexer": "ipython3",
   "version": "3.9.13 (main, Aug 25 2022, 23:26:10) \n[GCC 11.2.0]"
  },
  "vscode": {
   "interpreter": {
    "hash": "f464033afa1f50595209177b7e96615faf028848d88c0a5f4e9943d0494c6544"
   }
  }
 },
 "nbformat": 4,
 "nbformat_minor": 4
}
